{
    "cells": [
        {
            "metadata": {},
            "cell_type": "code",
            "source": "import pandas as pd\nimport numpy as np",
            "execution_count": 1,
            "outputs": []
        },
        {
            "metadata": {},
            "cell_type": "code",
            "source": "toronto_raw = pd.read_html(\"https://en.wikipedia.org/w/index.php?title=List_of_postal_codes_of_Canada:_M&oldid=945633050.\")",
            "execution_count": 2,
            "outputs": []
        },
        {
            "metadata": {},
            "cell_type": "code",
            "source": "type(toronto_raw)",
            "execution_count": 3,
            "outputs": [
                {
                    "output_type": "execute_result",
                    "execution_count": 3,
                    "data": {
                        "text/plain": "list"
                    },
                    "metadata": {}
                }
            ]
        },
        {
            "metadata": {},
            "cell_type": "code",
            "source": "toronto_raw[0:1]",
            "execution_count": 4,
            "outputs": [
                {
                    "output_type": "execute_result",
                    "execution_count": 4,
                    "data": {
                        "text/plain": "[    Postcode           Borough  \\\n 0        M1A      Not assigned   \n 1        M2A      Not assigned   \n 2        M3A        North York   \n 3        M4A        North York   \n 4        M5A  Downtown Toronto   \n 5        M6A        North York   \n 6        M6A        North York   \n 7        M7A  Downtown Toronto   \n 8        M8A      Not assigned   \n 9        M9A         Etobicoke   \n 10       M1B       Scarborough   \n 11       M1B       Scarborough   \n 12       M2B      Not assigned   \n 13       M3B        North York   \n 14       M4B         East York   \n 15       M4B         East York   \n 16       M5B  Downtown Toronto   \n 17       M5B  Downtown Toronto   \n 18       M6B        North York   \n 19       M7B      Not assigned   \n 20       M8B      Not assigned   \n 21       M9B         Etobicoke   \n 22       M9B         Etobicoke   \n 23       M9B         Etobicoke   \n 24       M9B         Etobicoke   \n 25       M9B         Etobicoke   \n 26       M1C       Scarborough   \n 27       M1C       Scarborough   \n 28       M1C       Scarborough   \n 29       M2C      Not assigned   \n ..       ...               ...   \n 257      M9X      Not assigned   \n 258      M1Y      Not assigned   \n 259      M2Y      Not assigned   \n 260      M3Y      Not assigned   \n 261      M4Y  Downtown Toronto   \n 262      M5Y      Not assigned   \n 263      M6Y      Not assigned   \n 264      M7Y      East Toronto   \n 265      M8Y         Etobicoke   \n 266      M8Y         Etobicoke   \n 267      M8Y         Etobicoke   \n 268      M8Y         Etobicoke   \n 269      M8Y         Etobicoke   \n 270      M8Y         Etobicoke   \n 271      M8Y         Etobicoke   \n 272      M8Y         Etobicoke   \n 273      M9Y      Not assigned   \n 274      M1Z      Not assigned   \n 275      M2Z      Not assigned   \n 276      M3Z      Not assigned   \n 277      M4Z      Not assigned   \n 278      M5Z      Not assigned   \n 279      M6Z      Not assigned   \n 280      M7Z      Not assigned   \n 281      M8Z         Etobicoke   \n 282      M8Z         Etobicoke   \n 283      M8Z         Etobicoke   \n 284      M8Z         Etobicoke   \n 285      M8Z         Etobicoke   \n 286      M9Z      Not assigned   \n \n                                          Neighbourhood  \n 0                                         Not assigned  \n 1                                         Not assigned  \n 2                                            Parkwoods  \n 3                                     Victoria Village  \n 4                                         Harbourfront  \n 5                                     Lawrence Heights  \n 6                                       Lawrence Manor  \n 7                                         Queen's Park  \n 8                                         Not assigned  \n 9                                     Islington Avenue  \n 10                                               Rouge  \n 11                                             Malvern  \n 12                                        Not assigned  \n 13                                     Don Mills North  \n 14                                    Woodbine Gardens  \n 15                                       Parkview Hill  \n 16                                             Ryerson  \n 17                                     Garden District  \n 18                                           Glencairn  \n 19                                        Not assigned  \n 20                                        Not assigned  \n 21                                          Cloverdale  \n 22                                           Islington  \n 23                                        Martin Grove  \n 24                                    Princess Gardens  \n 25                                     West Deane Park  \n 26                                      Highland Creek  \n 27                                          Rouge Hill  \n 28                                          Port Union  \n 29                                        Not assigned  \n ..                                                 ...  \n 257                                       Not assigned  \n 258                                       Not assigned  \n 259                                       Not assigned  \n 260                                       Not assigned  \n 261                               Church and Wellesley  \n 262                                       Not assigned  \n 263                                       Not assigned  \n 264  Business Reply Mail Processing Centre 969 Eastern  \n 265                                         Humber Bay  \n 266                                   King's Mill Park  \n 267                           Kingsway Park South East  \n 268                                          Mimico NE  \n 269                                     Old Mill South  \n 270                                 The Queensway East  \n 271                              Royal York South East  \n 272                                           Sunnylea  \n 273                                       Not assigned  \n 274                                       Not assigned  \n 275                                       Not assigned  \n 276                                       Not assigned  \n 277                                       Not assigned  \n 278                                       Not assigned  \n 279                                       Not assigned  \n 280                                       Not assigned  \n 281                           Kingsway Park South West  \n 282                                          Mimico NW  \n 283                                 The Queensway West  \n 284                              Royal York South West  \n 285                                     South of Bloor  \n 286                                       Not assigned  \n \n [287 rows x 3 columns]]"
                    },
                    "metadata": {}
                }
            ]
        },
        {
            "metadata": {},
            "cell_type": "code",
            "source": "toronto = pd.DataFrame(toronto_raw[0])",
            "execution_count": 5,
            "outputs": []
        },
        {
            "metadata": {},
            "cell_type": "code",
            "source": "toronto.head()",
            "execution_count": 6,
            "outputs": [
                {
                    "output_type": "execute_result",
                    "execution_count": 6,
                    "data": {
                        "text/plain": "  Postcode           Borough     Neighbourhood\n0      M1A      Not assigned      Not assigned\n1      M2A      Not assigned      Not assigned\n2      M3A        North York         Parkwoods\n3      M4A        North York  Victoria Village\n4      M5A  Downtown Toronto      Harbourfront",
                        "text/html": "<div>\n<style scoped>\n    .dataframe tbody tr th:only-of-type {\n        vertical-align: middle;\n    }\n\n    .dataframe tbody tr th {\n        vertical-align: top;\n    }\n\n    .dataframe thead th {\n        text-align: right;\n    }\n</style>\n<table border=\"1\" class=\"dataframe\">\n  <thead>\n    <tr style=\"text-align: right;\">\n      <th></th>\n      <th>Postcode</th>\n      <th>Borough</th>\n      <th>Neighbourhood</th>\n    </tr>\n  </thead>\n  <tbody>\n    <tr>\n      <th>0</th>\n      <td>M1A</td>\n      <td>Not assigned</td>\n      <td>Not assigned</td>\n    </tr>\n    <tr>\n      <th>1</th>\n      <td>M2A</td>\n      <td>Not assigned</td>\n      <td>Not assigned</td>\n    </tr>\n    <tr>\n      <th>2</th>\n      <td>M3A</td>\n      <td>North York</td>\n      <td>Parkwoods</td>\n    </tr>\n    <tr>\n      <th>3</th>\n      <td>M4A</td>\n      <td>North York</td>\n      <td>Victoria Village</td>\n    </tr>\n    <tr>\n      <th>4</th>\n      <td>M5A</td>\n      <td>Downtown Toronto</td>\n      <td>Harbourfront</td>\n    </tr>\n  </tbody>\n</table>\n</div>"
                    },
                    "metadata": {}
                }
            ]
        },
        {
            "metadata": {},
            "cell_type": "code",
            "source": "toronto.shape",
            "execution_count": 7,
            "outputs": [
                {
                    "output_type": "execute_result",
                    "execution_count": 7,
                    "data": {
                        "text/plain": "(287, 3)"
                    },
                    "metadata": {}
                }
            ]
        },
        {
            "metadata": {},
            "cell_type": "code",
            "source": "toronto[\"Borough\"].unique()",
            "execution_count": 8,
            "outputs": [
                {
                    "output_type": "execute_result",
                    "execution_count": 8,
                    "data": {
                        "text/plain": "array(['Not assigned', 'North York', 'Downtown Toronto', 'Etobicoke',\n       'Scarborough', 'East York', 'York', 'East Toronto', 'West Toronto',\n       'Central Toronto', 'Mississauga'], dtype=object)"
                    },
                    "metadata": {}
                }
            ]
        },
        {
            "metadata": {},
            "cell_type": "code",
            "source": "toronto = toronto[toronto[\"Borough\"] != \"Not assigned\"]",
            "execution_count": 9,
            "outputs": []
        },
        {
            "metadata": {},
            "cell_type": "code",
            "source": "toronto[0:10]",
            "execution_count": 10,
            "outputs": [
                {
                    "output_type": "execute_result",
                    "execution_count": 10,
                    "data": {
                        "text/plain": "   Postcode           Borough     Neighbourhood\n2       M3A        North York         Parkwoods\n3       M4A        North York  Victoria Village\n4       M5A  Downtown Toronto      Harbourfront\n5       M6A        North York  Lawrence Heights\n6       M6A        North York    Lawrence Manor\n7       M7A  Downtown Toronto      Queen's Park\n9       M9A         Etobicoke  Islington Avenue\n10      M1B       Scarborough             Rouge\n11      M1B       Scarborough           Malvern\n13      M3B        North York   Don Mills North",
                        "text/html": "<div>\n<style scoped>\n    .dataframe tbody tr th:only-of-type {\n        vertical-align: middle;\n    }\n\n    .dataframe tbody tr th {\n        vertical-align: top;\n    }\n\n    .dataframe thead th {\n        text-align: right;\n    }\n</style>\n<table border=\"1\" class=\"dataframe\">\n  <thead>\n    <tr style=\"text-align: right;\">\n      <th></th>\n      <th>Postcode</th>\n      <th>Borough</th>\n      <th>Neighbourhood</th>\n    </tr>\n  </thead>\n  <tbody>\n    <tr>\n      <th>2</th>\n      <td>M3A</td>\n      <td>North York</td>\n      <td>Parkwoods</td>\n    </tr>\n    <tr>\n      <th>3</th>\n      <td>M4A</td>\n      <td>North York</td>\n      <td>Victoria Village</td>\n    </tr>\n    <tr>\n      <th>4</th>\n      <td>M5A</td>\n      <td>Downtown Toronto</td>\n      <td>Harbourfront</td>\n    </tr>\n    <tr>\n      <th>5</th>\n      <td>M6A</td>\n      <td>North York</td>\n      <td>Lawrence Heights</td>\n    </tr>\n    <tr>\n      <th>6</th>\n      <td>M6A</td>\n      <td>North York</td>\n      <td>Lawrence Manor</td>\n    </tr>\n    <tr>\n      <th>7</th>\n      <td>M7A</td>\n      <td>Downtown Toronto</td>\n      <td>Queen's Park</td>\n    </tr>\n    <tr>\n      <th>9</th>\n      <td>M9A</td>\n      <td>Etobicoke</td>\n      <td>Islington Avenue</td>\n    </tr>\n    <tr>\n      <th>10</th>\n      <td>M1B</td>\n      <td>Scarborough</td>\n      <td>Rouge</td>\n    </tr>\n    <tr>\n      <th>11</th>\n      <td>M1B</td>\n      <td>Scarborough</td>\n      <td>Malvern</td>\n    </tr>\n    <tr>\n      <th>13</th>\n      <td>M3B</td>\n      <td>North York</td>\n      <td>Don Mills North</td>\n    </tr>\n  </tbody>\n</table>\n</div>"
                    },
                    "metadata": {}
                }
            ]
        },
        {
            "metadata": {},
            "cell_type": "code",
            "source": "toronto[\"Neighbourhood\"][toronto[\"Neighbourhood\"] == \"Not assigned\"] = toronto[\"Borough\"]",
            "execution_count": 11,
            "outputs": []
        },
        {
            "metadata": {},
            "cell_type": "code",
            "source": "toronto[0:10]",
            "execution_count": 12,
            "outputs": [
                {
                    "output_type": "execute_result",
                    "execution_count": 12,
                    "data": {
                        "text/plain": "   Postcode           Borough     Neighbourhood\n2       M3A        North York         Parkwoods\n3       M4A        North York  Victoria Village\n4       M5A  Downtown Toronto      Harbourfront\n5       M6A        North York  Lawrence Heights\n6       M6A        North York    Lawrence Manor\n7       M7A  Downtown Toronto      Queen's Park\n9       M9A         Etobicoke  Islington Avenue\n10      M1B       Scarborough             Rouge\n11      M1B       Scarborough           Malvern\n13      M3B        North York   Don Mills North",
                        "text/html": "<div>\n<style scoped>\n    .dataframe tbody tr th:only-of-type {\n        vertical-align: middle;\n    }\n\n    .dataframe tbody tr th {\n        vertical-align: top;\n    }\n\n    .dataframe thead th {\n        text-align: right;\n    }\n</style>\n<table border=\"1\" class=\"dataframe\">\n  <thead>\n    <tr style=\"text-align: right;\">\n      <th></th>\n      <th>Postcode</th>\n      <th>Borough</th>\n      <th>Neighbourhood</th>\n    </tr>\n  </thead>\n  <tbody>\n    <tr>\n      <th>2</th>\n      <td>M3A</td>\n      <td>North York</td>\n      <td>Parkwoods</td>\n    </tr>\n    <tr>\n      <th>3</th>\n      <td>M4A</td>\n      <td>North York</td>\n      <td>Victoria Village</td>\n    </tr>\n    <tr>\n      <th>4</th>\n      <td>M5A</td>\n      <td>Downtown Toronto</td>\n      <td>Harbourfront</td>\n    </tr>\n    <tr>\n      <th>5</th>\n      <td>M6A</td>\n      <td>North York</td>\n      <td>Lawrence Heights</td>\n    </tr>\n    <tr>\n      <th>6</th>\n      <td>M6A</td>\n      <td>North York</td>\n      <td>Lawrence Manor</td>\n    </tr>\n    <tr>\n      <th>7</th>\n      <td>M7A</td>\n      <td>Downtown Toronto</td>\n      <td>Queen's Park</td>\n    </tr>\n    <tr>\n      <th>9</th>\n      <td>M9A</td>\n      <td>Etobicoke</td>\n      <td>Islington Avenue</td>\n    </tr>\n    <tr>\n      <th>10</th>\n      <td>M1B</td>\n      <td>Scarborough</td>\n      <td>Rouge</td>\n    </tr>\n    <tr>\n      <th>11</th>\n      <td>M1B</td>\n      <td>Scarborough</td>\n      <td>Malvern</td>\n    </tr>\n    <tr>\n      <th>13</th>\n      <td>M3B</td>\n      <td>North York</td>\n      <td>Don Mills North</td>\n    </tr>\n  </tbody>\n</table>\n</div>"
                    },
                    "metadata": {}
                }
            ]
        },
        {
            "metadata": {},
            "cell_type": "code",
            "source": "",
            "execution_count": null,
            "outputs": []
        }
    ],
    "metadata": {
        "kernelspec": {
            "name": "python3",
            "display_name": "Python 3.6",
            "language": "python"
        },
        "language_info": {
            "name": "python",
            "version": "3.6.9",
            "mimetype": "text/x-python",
            "codemirror_mode": {
                "name": "ipython",
                "version": 3
            },
            "pygments_lexer": "ipython3",
            "nbconvert_exporter": "python",
            "file_extension": ".py"
        }
    },
    "nbformat": 4,
    "nbformat_minor": 1
}