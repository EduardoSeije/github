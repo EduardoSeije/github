{
    "cells": [
        {
            "metadata": {
                "collapsed": true
            },
            "cell_type": "markdown",
            "source": "<font size=\"5\"> Capstone Project - The Battle of Neighbourhoods \n\n<font size=\"4\"> 01) Introduction to the Business Problem \n\nToronto demographics show that it is a large and etrhnically diverse city. One of the biggest cities in Canada with a huge number of international immigration. Over the years Toronto has been growing faster and the opportunities for business are following the fast growth. \n\nToronto have almost 3 millions immigrants that live and work in the city, wherre the overwhelming majority are from India, China, Philippines, Pakistan and a few countries from Europe. \n\nWith its diverse culture, comes diverse food items and varieties, and business opportunities in this area are quite interesting.\n\n<font size=\"4\"> Business Problems:\n\n\n1) List an visualize all major parts of Toronto that has greaat restaurants. \n\n2) What is the best restaurant type for Toronto?\n\n3) What is the best area for this restaurant?\n\n4) How many simmilar restaurats do we have in Toronto?\n\n<font size=\"4\"> Data:\n\nUsed a data set of zipcode and neighborhood with latitude and longitude from multiple online sources, including Wikipedia link provided at the last assignment.\n\n<font size=\"4\"> Methodology:\n\nUsed the skills learned through the course relied on Foursquare API to retrieve all venues of each neighborhoods and work with the data provided. "
        }
    ],
    "metadata": {
        "kernelspec": {
            "name": "python3",
            "display_name": "Python 3.6",
            "language": "python"
        },
        "language_info": {
            "name": "python",
            "version": "3.6.9",
            "mimetype": "text/x-python",
            "codemirror_mode": {
                "name": "ipython",
                "version": 3
            },
            "pygments_lexer": "ipython3",
            "nbconvert_exporter": "python",
            "file_extension": ".py"
        }
    },
    "nbformat": 4,
    "nbformat_minor": 1
}